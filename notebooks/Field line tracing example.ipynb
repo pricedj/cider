{
 "cells": [
  {
   "cell_type": "markdown",
   "id": "6139a11d-9962-423b-81e9-05f56cf554f6",
   "metadata": {},
   "source": [
    "# *Field line tracing example*\n",
    "***\n",
    "\n",
    "Example of tracing field lines"
   ]
  },
  {
   "cell_type": "code",
   "execution_count": null,
   "id": "27737642-a6e2-4d5b-82b8-fec274e0df9c",
   "metadata": {},
   "outputs": [],
   "source": [
    "import numpy as np\n",
    "import matplotlib.pyplot as plt"
   ]
  },
  {
   "cell_type": "code",
   "execution_count": null,
   "id": "3b90ff77-13e9-4597-b90d-c3a015882690",
   "metadata": {},
   "outputs": [],
   "source": [
    "import sunpy\n",
    "import sunpy.sun.constants"
   ]
  },
  {
   "cell_type": "code",
   "execution_count": null,
   "id": "4fdc5be3-874a-4b47-be15-62139f02dd46",
   "metadata": {},
   "outputs": [],
   "source": [
    "import pysmsh\n",
    "import pysmsh.difference.staggered_curvilinear as curvilinear"
   ]
  },
  {
   "cell_type": "code",
   "execution_count": null,
   "id": "ddee5ab2-16c2-49fa-9af4-8ab55eea46bc",
   "metadata": {},
   "outputs": [],
   "source": [
    "import cider"
   ]
  },
  {
   "cell_type": "code",
   "execution_count": null,
   "id": "68db8382-b205-4d82-a41d-de4d177a4ff4",
   "metadata": {},
   "outputs": [],
   "source": [
    "RSun = sunpy.sun.constants.radius"
   ]
  },
  {
   "cell_type": "markdown",
   "id": "cf381fde-b6ad-4cc3-9e7a-42ef006cea57",
   "metadata": {},
   "source": [
    "### Load magnetogram & process\n",
    "\n",
    "Load a HMI synoptic magnetogram"
   ]
  },
  {
   "cell_type": "code",
   "execution_count": null,
   "id": "463eefce-32cf-4343-8b7a-e2ef15b04ea4",
   "metadata": {},
   "outputs": [],
   "source": [
    "import cider.magnetogram.hmi"
   ]
  },
  {
   "cell_type": "code",
   "execution_count": null,
   "id": "c3f98e43",
   "metadata": {},
   "outputs": [],
   "source": [
    "import os\n",
    "import urllib.request\n",
    "\n",
    "sample = 'hmi.synoptic_mr_polfil_720s.2155.Mr_polfil.fits'\n",
    "\n",
    "if not os.path.exists('../data/'+sample):\n",
    "    urllib.request.urlretrieve('https://a3s.fi/cider_sample_data/'+sample, '../data/'+sample)"
   ]
  },
  {
   "cell_type": "code",
   "execution_count": null,
   "id": "b81cd416-8b6b-4dd7-ac1b-3953f225c951",
   "metadata": {},
   "outputs": [],
   "source": [
    "magnetogram_file = \"../data/hmi.synoptic_mr_polfil_720s.2155.Mr_polfil.fits\""
   ]
  },
  {
   "cell_type": "code",
   "execution_count": null,
   "id": "ab10d07f-ddef-4b36-9997-286379a35fa9",
   "metadata": {},
   "outputs": [],
   "source": [
    "raw_magnetogram = cider.magnetogram.hmi.read_hmi_synoptic(magnetogram_file)"
   ]
  },
  {
   "cell_type": "markdown",
   "id": "aedcc68e-86b6-4196-b764-e1b2e632cd8c",
   "metadata": {},
   "source": [
    "Remap to a uniform lon-lat grid which is required by the PFSS solver"
   ]
  },
  {
   "cell_type": "code",
   "execution_count": null,
   "id": "2dcd7b40-78d2-4910-9a24-2d2c04d4c62a",
   "metadata": {},
   "outputs": [],
   "source": [
    "import cider.utils.map\n",
    "import cider.magnetogram"
   ]
  },
  {
   "cell_type": "code",
   "execution_count": null,
   "id": "b20ddac2-e690-46ba-93f0-f22d31e54559",
   "metadata": {},
   "outputs": [],
   "source": [
    "# Create an empty map of the requested resolution\n",
    "uniform_map \\\n",
    "    = cider.utils.map.create_full_sun_plate_carree_map(raw_magnetogram,\n",
    "                                                       deg_per_pixel=1.0,\n",
    "                                                       frame=raw_magnetogram.coordinate_frame.name)"
   ]
  },
  {
   "cell_type": "code",
   "execution_count": null,
   "id": "d6a2466d-13ed-4f76-867f-205e82152fad",
   "metadata": {},
   "outputs": [],
   "source": [
    "remapped_magnetogram = cider.magnetogram.regrid_to_grid_of_map(raw_magnetogram, uniform_map)"
   ]
  },
  {
   "cell_type": "markdown",
   "id": "59e45cec-d403-45a4-9c73-6f3ce9dc7f68",
   "metadata": {},
   "source": [
    "Balance the signed flux of the magnetogram"
   ]
  },
  {
   "cell_type": "code",
   "execution_count": null,
   "id": "7c378dc0-15b9-4fe2-ab48-a303fb38b677",
   "metadata": {},
   "outputs": [],
   "source": [
    "balanced_magnetogram = cider.magnetogram.Balance.multiplicative(remapped_magnetogram)"
   ]
  },
  {
   "cell_type": "code",
   "execution_count": null,
   "id": "a03605cd-8d91-498a-a096-b38bfc792afd",
   "metadata": {},
   "outputs": [],
   "source": [
    "balanced_magnetogram.peek(vmin=-50, vmax=50, norm=None)"
   ]
  },
  {
   "cell_type": "code",
   "execution_count": null,
   "id": "f31d10bb-f253-4f80-ac85-035141a2a82d",
   "metadata": {},
   "outputs": [],
   "source": []
  },
  {
   "cell_type": "markdown",
   "id": "542fbca8-ce0f-4de5-a1f7-8b9c134488bc",
   "metadata": {},
   "source": [
    "### Compute the PFSS model"
   ]
  },
  {
   "cell_type": "code",
   "execution_count": null,
   "id": "2bd45df8-34a2-4d1a-b853-31c58f95919d",
   "metadata": {},
   "outputs": [],
   "source": [
    "import cider.models.pfss"
   ]
  },
  {
   "cell_type": "markdown",
   "id": "d7f28640-5831-4862-95a9-14bc613631bc",
   "metadata": {},
   "source": [
    "Specify the radial grid edge coordinates. For the PFSS model, the outer radius defines the source surface"
   ]
  },
  {
   "cell_type": "code",
   "execution_count": null,
   "id": "1b8b382b-ea1c-44a6-bb7d-bc9ee2b7a6d9",
   "metadata": {},
   "outputs": [],
   "source": [
    "r = np.linspace(1.0, 2.5, 128+1)*RSun"
   ]
  },
  {
   "cell_type": "code",
   "execution_count": null,
   "id": "daedd5af-3972-4251-a931-34ed0b472681",
   "metadata": {},
   "outputs": [],
   "source": [
    "# Instantiate the model\n",
    "pfss = cider.models.pfss.PotentialFieldSourceSurfaceModel(balanced_magnetogram, r)"
   ]
  },
  {
   "cell_type": "code",
   "execution_count": null,
   "id": "cd82014f-fb65-45f7-9eef-0dc1cf4a7529",
   "metadata": {},
   "outputs": [],
   "source": [
    "# Compute the solution\n",
    "pfss.compute()"
   ]
  },
  {
   "cell_type": "code",
   "execution_count": null,
   "id": "a0e6638b-a6c4-4602-a090-7066d70439b7",
   "metadata": {},
   "outputs": [],
   "source": [
    "# Compute the magnetic field\n",
    "magnetic_field = pfss.magnetic_field()"
   ]
  },
  {
   "cell_type": "markdown",
   "id": "0205212f-4558-4e73-96f6-f3545c93868f",
   "metadata": {},
   "source": [
    "### Tracing field lines"
   ]
  },
  {
   "cell_type": "markdown",
   "id": "c824d1d3-1508-427f-90fb-08e36d900208",
   "metadata": {},
   "source": [
    "Tracing field lines requires \n",
    " 1. A method to compute (interpolate) the vector field at any arbitrary point from the grid values\n",
    " 2. Integrating the ODE defining a streamline, $\\frac{d \\mathbf{x}(s)}{ds} \\times \\mathbf{b}(\\mathbf{x}(s)) = 0$"
   ]
  },
  {
   "cell_type": "markdown",
   "id": "28ce114b-1ae3-467f-910b-3ac1bc4c1ca5",
   "metadata": {},
   "source": [
    "Many different methodologies could be employed for both tasks, with varying effects on the accuracy of the computed stream line. For applications requiring a high level of accuracy, care should be taken in choosing these."
   ]
  },
  {
   "cell_type": "markdown",
   "id": "1b889db4-a71b-4b0b-bbd0-f508e38dc78e",
   "metadata": {},
   "source": [
    "As a simple approach, we here use trilinear interpolation of the magnetic field components that have been averaged to the nodes (corners) of the mesh."
   ]
  },
  {
   "cell_type": "code",
   "execution_count": null,
   "id": "49b7d806-25ec-4d63-a9bf-7f2c5ac74152",
   "metadata": {},
   "outputs": [],
   "source": [
    "import cider.utils.interpolation\n",
    "import cider.utils.tracer"
   ]
  },
  {
   "cell_type": "markdown",
   "id": "892e91b8-df99-4cbd-8020-2a67822d1f9d",
   "metadata": {},
   "source": [
    "Average data to nodes"
   ]
  },
  {
   "cell_type": "code",
   "execution_count": null,
   "id": "5f1ec56e-6f28-4675-a0f5-61abf52e8dc4",
   "metadata": {},
   "outputs": [],
   "source": [
    "nodal_magnetic_field = cider.utils.interpolation.average_face_staggered_to_nodal(magnetic_field)"
   ]
  },
  {
   "cell_type": "markdown",
   "id": "31838c1f-c734-4f1e-b664-6962b0122ec5",
   "metadata": {},
   "source": [
    "Create the interpolator"
   ]
  },
  {
   "cell_type": "code",
   "execution_count": null,
   "id": "c6c9f02d-50cb-4b19-bf14-62bc05b55ac3",
   "metadata": {},
   "outputs": [],
   "source": [
    "interpolator = cider.utils.interpolation.NodalSphericalShellVectorFieldInterpolator(nodal_magnetic_field)"
   ]
  },
  {
   "cell_type": "markdown",
   "id": "5c9b7e0f-0883-4090-9d1b-0a92aad8dbc4",
   "metadata": {},
   "source": [
    "Initialize the streamline tracer. Default parameters, which may or may not be suitable for your particular case, are set by the constructor."
   ]
  },
  {
   "cell_type": "code",
   "execution_count": null,
   "id": "1022bdaf-09d5-4fbc-84b0-f7e527e68548",
   "metadata": {},
   "outputs": [],
   "source": [
    "tracer = cider.utils.tracer.SphericalShellMidPointStreamLineTracer(interpolator)"
   ]
  },
  {
   "cell_type": "code",
   "execution_count": null,
   "id": "53f8b4c8-d674-4db9-b0df-9f2394a6af20",
   "metadata": {},
   "outputs": [],
   "source": [
    "# As an example, modify the maximum length of a stream line\n",
    "tracer.max_path_length = 3.0*RSun.si.value"
   ]
  },
  {
   "cell_type": "markdown",
   "id": "0b6a5500-cc4b-4ff0-ae72-d8e251976b80",
   "metadata": {},
   "source": [
    "Trace the streamline starting from a given point (given in spherical $(r, \\theta, \\phi$) coordinates), either in the direction of the field (reverse=False) or opposite to the direction of the field (reverse=True). The tracing is performed until it is terminated, and the end point of the streamline is returned."
   ]
  },
  {
   "cell_type": "code",
   "execution_count": null,
   "id": "2228ff11-3447-4bd1-b914-23ac47d4939f",
   "metadata": {},
   "outputs": [],
   "source": [
    "beg_pt = (2.0*RSun.si.value, 0.5*np.pi, 0.5*np.pi)\n",
    "reverse = False"
   ]
  },
  {
   "cell_type": "code",
   "execution_count": null,
   "id": "c7952f05-374b-47f6-829a-972a90bea43c",
   "metadata": {},
   "outputs": [],
   "source": [
    "end_pt = tracer.compute(beg_pt, reverse)"
   ]
  },
  {
   "cell_type": "code",
   "execution_count": null,
   "id": "f636d524-4ece-42fa-aff7-be0f2a696c98",
   "metadata": {},
   "outputs": [],
   "source": [
    "end_pt"
   ]
  },
  {
   "cell_type": "markdown",
   "id": "d55fd139-91f9-4387-9e4b-435ac87eeff5",
   "metadata": {},
   "source": [
    "By default, the coordinates of the streamline are not recorded due to performance degredation when doing so. Recording of points can be switched on:"
   ]
  },
  {
   "cell_type": "code",
   "execution_count": null,
   "id": "aacbdef7-d879-4225-b5b4-2222c29029de",
   "metadata": {},
   "outputs": [],
   "source": [
    "tracer.record_points = True"
   ]
  },
  {
   "cell_type": "code",
   "execution_count": null,
   "id": "2b3e7018-934a-4a5c-89db-1eafdf22d2e6",
   "metadata": {},
   "outputs": [],
   "source": [
    "# Retrace\n",
    "end_pt = tracer.compute(beg_pt, reverse)"
   ]
  },
  {
   "cell_type": "code",
   "execution_count": null,
   "id": "ba99c475-90c2-49b7-98d7-eba937b4ac9f",
   "metadata": {},
   "outputs": [],
   "source": [
    "# Each coordinate is now stored in tracer.points\n",
    "list(tracer.points[0:5])"
   ]
  },
  {
   "cell_type": "markdown",
   "id": "5c2f5703-e66b-4463-a44f-4dc48cde2b68",
   "metadata": {},
   "source": [
    "Using the tracer, for example the open and closed regions can be computed."
   ]
  },
  {
   "cell_type": "code",
   "execution_count": null,
   "id": "5a7a4236-e02c-4383-a981-225f6b410d77",
   "metadata": {},
   "outputs": [],
   "source": [
    "import cider.analysis.open_closed"
   ]
  },
  {
   "cell_type": "code",
   "execution_count": null,
   "id": "96cdf616-cab2-489a-9d07-4429e55ca9bf",
   "metadata": {},
   "outputs": [],
   "source": [
    "# Switch off recording of points\n",
    "tracer.record_points = False"
   ]
  },
  {
   "cell_type": "code",
   "execution_count": null,
   "id": "bef5694f-8605-4d02-974f-ba1d6b7e736f",
   "metadata": {},
   "outputs": [],
   "source": [
    "%%time\n",
    "open_closed_map \\\n",
    "    = cider.analysis.open_closed.compute_open_closed_map(pfss.magnetogram,\n",
    "                                                         deg_per_pixel=2.0,\n",
    "                                                         start_radius=1.01*RSun,\n",
    "                                                         open_radius=2.45*RSun,\n",
    "                                                         tracer=tracer)"
   ]
  },
  {
   "cell_type": "code",
   "execution_count": null,
   "id": "775e31f9-8889-4081-901b-44b5b4adf875",
   "metadata": {},
   "outputs": [],
   "source": [
    "open_closed_map.peek(cmap='bwr')"
   ]
  },
  {
   "cell_type": "markdown",
   "id": "5f5be234-3183-4896-b8a4-c304af4f9fc0",
   "metadata": {},
   "source": [
    "The open field can be plotted together with the magnetogram by applying a mask:"
   ]
  },
  {
   "cell_type": "code",
   "execution_count": null,
   "id": "e51bfa1a-f9e1-4462-8fed-1ce85cd2bdb4",
   "metadata": {},
   "outputs": [],
   "source": [
    "masked_data = np.copy(open_closed_map.data)\n",
    "masked_data[np.where(np.abs(open_closed_map.data) < 1.5)] = np.nan"
   ]
  },
  {
   "cell_type": "code",
   "execution_count": null,
   "id": "f98c3deb-3acf-48d9-b5f7-c8495486c832",
   "metadata": {},
   "outputs": [],
   "source": [
    "masked_open_closed_map = sunpy.map.Map(masked_data, open_closed_map.meta)"
   ]
  },
  {
   "cell_type": "code",
   "execution_count": null,
   "id": "f3b5d701-a1d4-4cee-bbf9-274ac76244d9",
   "metadata": {},
   "outputs": [],
   "source": [
    "fig = plt.figure()\n",
    "\n",
    "ax = fig.add_subplot(projection=pfss.magnetogram)\n",
    "\n",
    "pfss.magnetogram.plot(axes=ax, vmin=-20, vmax=20)\n",
    "\n",
    "# Note: this uses autoalign to align the two maps of different resolution..\n",
    "masked_open_closed_map.plot(axes=ax, autoalign=True, alpha=0.75, cmap=\"bwr\", norm=None)"
   ]
  },
  {
   "cell_type": "markdown",
   "id": "e26451a0-423b-4999-a211-1e007881d457",
   "metadata": {},
   "source": [
    "The PFSS result can be output to VTK for external visualization"
   ]
  },
  {
   "cell_type": "code",
   "execution_count": null,
   "id": "19aa054c-41bd-41a3-a235-7568e7e38e69",
   "metadata": {},
   "outputs": [],
   "source": [
    "import os\n",
    "import pyevtk.hl as evtk"
   ]
  },
  {
   "cell_type": "code",
   "execution_count": null,
   "id": "c6fd5d90-07c0-4edf-b203-e699d01fa7b6",
   "metadata": {},
   "outputs": [],
   "source": [
    "B = nodal_magnetic_field\n",
    "\n",
    "evtk.gridToVTK(\"../data/\" + os.path.basename(magnetogram_file).replace('.fits', '.pfss'),\n",
    "               B.mesh.edges.r/RSun.si.value,\n",
    "               B.mesh.edges.clt,\n",
    "               B.mesh.edges.lon,\n",
    "               pointData={\"Br\" : B.data[0], \"Bt\" : B.data[1], \"Bp\" : B.data[2]})"
   ]
  },
  {
   "cell_type": "markdown",
   "id": "00331cea-b3ad-451f-baa6-3106d18e795e",
   "metadata": {},
   "source": [
    "***"
   ]
  }
 ],
 "metadata": {
  "kernelspec": {
   "display_name": "cider",
   "language": "python",
   "name": "python3"
  },
  "language_info": {
   "codemirror_mode": {
    "name": "ipython",
    "version": 3
   },
   "file_extension": ".py",
   "mimetype": "text/x-python",
   "name": "python",
   "nbconvert_exporter": "python",
   "pygments_lexer": "ipython3",
   "version": "3.10.17"
  }
 },
 "nbformat": 4,
 "nbformat_minor": 5
}
