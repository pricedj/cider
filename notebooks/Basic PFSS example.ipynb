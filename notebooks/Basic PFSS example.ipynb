{
 "cells": [
  {
   "cell_type": "markdown",
   "id": "6139a11d-9962-423b-81e9-05f56cf554f6",
   "metadata": {},
   "source": [
    "# *Computing the PFSS model*\n",
    "***"
   ]
  },
  {
   "cell_type": "code",
   "execution_count": null,
   "id": "27737642-a6e2-4d5b-82b8-fec274e0df9c",
   "metadata": {},
   "outputs": [],
   "source": [
    "import numpy as np\n",
    "import matplotlib.pyplot as plt"
   ]
  },
  {
   "cell_type": "code",
   "execution_count": null,
   "id": "3b90ff77-13e9-4597-b90d-c3a015882690",
   "metadata": {},
   "outputs": [],
   "source": [
    "import astropy\n",
    "import astropy.units as u"
   ]
  },
  {
   "cell_type": "code",
   "execution_count": null,
   "id": "4fdc5be3-874a-4b47-be15-62139f02dd46",
   "metadata": {},
   "outputs": [],
   "source": [
    "import pysmsh\n",
    "import cider"
   ]
  },
  {
   "cell_type": "code",
   "execution_count": null,
   "id": "ffeac4b4-2929-4683-ace1-19dbbcfdc404",
   "metadata": {},
   "outputs": [],
   "source": [
    "RSun = astropy.constants.R_sun"
   ]
  },
  {
   "cell_type": "markdown",
   "id": "c6f17a0a-e296-44b6-953c-2a551cb2fe7d",
   "metadata": {},
   "source": [
    "### Load magnetogram & process"
   ]
  },
  {
   "cell_type": "markdown",
   "id": "46a9452b-0cfe-485c-a03b-07ac55786a6e",
   "metadata": {},
   "source": [
    "Load a HMI synchronic pole-filled magnetogram (available from JSOC)"
   ]
  },
  {
   "cell_type": "code",
   "execution_count": null,
   "id": "c82b05a0-8af7-44b7-8c2a-47db0c406de6",
   "metadata": {},
   "outputs": [],
   "source": [
    "import cider.magnetogram\n",
    "import cider.magnetogram.hmi"
   ]
  },
  {
   "cell_type": "code",
   "execution_count": null,
   "id": "ddb85fa9",
   "metadata": {},
   "outputs": [],
   "source": [
    "import os\n",
    "import urllib.request\n",
    "\n",
    "sample = 'hmi.mrdailysynframe_polfil_720s.20211009_120000_TAI.Mr_polfil.fits'\n",
    "\n",
    "if not os.path.exists('../data/'+sample):\n",
    "    urllib.request.urlretrieve('https://a3s.fi/cider_sample_data/'+sample, '../data/'+sample)"
   ]
  },
  {
   "cell_type": "code",
   "execution_count": null,
   "id": "cdc27f48-b455-4501-a70e-d9c0bb6d52ff",
   "metadata": {},
   "outputs": [],
   "source": [
    "magnetogram_file = \"../data/hmi.mrdailysynframe_polfil_720s.20211009_120000_TAI.Mr_polfil.fits\""
   ]
  },
  {
   "cell_type": "code",
   "execution_count": null,
   "id": "cc4d976b-3d66-44dc-93c8-02891705d4ae",
   "metadata": {},
   "outputs": [],
   "source": [
    "raw_magnetogram = cider.magnetogram.hmi.read_hmi_daily_synframe(magnetogram_file)"
   ]
  },
  {
   "cell_type": "markdown",
   "id": "019f15ea-7817-4771-a567-eb204d1eef54",
   "metadata": {},
   "source": [
    "Remap to a uniform lon-lat grid which is required by the PFSS solver"
   ]
  },
  {
   "cell_type": "code",
   "execution_count": null,
   "id": "27b3bcd5-2aa9-47d1-986d-82176e19aadb",
   "metadata": {},
   "outputs": [],
   "source": [
    "import cider.utils.map"
   ]
  },
  {
   "cell_type": "code",
   "execution_count": null,
   "id": "fb520a71-6a60-42fb-b9fc-289667f8593b",
   "metadata": {},
   "outputs": [],
   "source": [
    "# Create an empty map with the requested resolution\n",
    "uniform_map \\\n",
    "    = cider.utils.map.create_full_sun_plate_carree_map(raw_magnetogram,\n",
    "                                                       deg_per_pixel=1.0,\n",
    "                                                       frame=raw_magnetogram.coordinate_frame.name)"
   ]
  },
  {
   "cell_type": "code",
   "execution_count": null,
   "id": "ede79331-2a31-4b4d-a800-7a13193db74f",
   "metadata": {},
   "outputs": [],
   "source": [
    "remapped_magnetogram = cider.magnetogram.regrid_to_grid_of_map(raw_magnetogram, uniform_map)"
   ]
  },
  {
   "cell_type": "markdown",
   "id": "0ac41951-c284-4063-afd4-81b892ca69ac",
   "metadata": {},
   "source": [
    "Balance the magnetogram"
   ]
  },
  {
   "cell_type": "code",
   "execution_count": null,
   "id": "d8ef4733-c2ac-4421-8b7b-138c7dcdd64e",
   "metadata": {},
   "outputs": [],
   "source": [
    "balanced_magnetogram = cider.magnetogram.Balance.multiplicative(remapped_magnetogram)"
   ]
  },
  {
   "cell_type": "code",
   "execution_count": null,
   "id": "28b48b30-ca29-4ff0-95e5-5d7a954daddc",
   "metadata": {},
   "outputs": [],
   "source": [
    "balanced_magnetogram.peek(vmin=-50, vmax=50, norm=None)"
   ]
  },
  {
   "cell_type": "markdown",
   "id": "8b23e382-10f3-4397-92a4-7dbb39369c25",
   "metadata": {},
   "source": [
    "Compute flux content"
   ]
  },
  {
   "cell_type": "code",
   "execution_count": null,
   "id": "0096860a-65cd-4d2b-ba03-c41311655977",
   "metadata": {},
   "outputs": [],
   "source": [
    "cider.magnetogram.Flux.compute(remapped_magnetogram)"
   ]
  },
  {
   "cell_type": "code",
   "execution_count": null,
   "id": "1a0ab742-1735-4c75-a18e-ceac74128b97",
   "metadata": {},
   "outputs": [],
   "source": [
    "cider.magnetogram.Flux.compute(balanced_magnetogram)"
   ]
  },
  {
   "cell_type": "markdown",
   "id": "04d010a2-a664-4b94-9f24-7d5b78d2435c",
   "metadata": {},
   "source": [
    "### Compute the PFSS model"
   ]
  },
  {
   "cell_type": "code",
   "execution_count": null,
   "id": "3f06ce3c-6848-4cdf-9d33-500454f8ad68",
   "metadata": {},
   "outputs": [],
   "source": [
    "import cider.models.pfss"
   ]
  },
  {
   "cell_type": "markdown",
   "id": "63619ed2-4cfb-4bfa-8c5c-d72777bc85bd",
   "metadata": {},
   "source": [
    "Specify the radial grid coordinates. For the PFSS model, the outer radius defines the source surface"
   ]
  },
  {
   "cell_type": "code",
   "execution_count": null,
   "id": "da0c45c8-e9e6-4f6e-8422-6da224d751ff",
   "metadata": {},
   "outputs": [],
   "source": [
    "r = np.linspace(1.0, 2.5, 256)*RSun"
   ]
  },
  {
   "cell_type": "code",
   "execution_count": null,
   "id": "c8f2e062-cabe-42c8-8f89-cf34ca555604",
   "metadata": {},
   "outputs": [],
   "source": [
    "# Instantiate the model\n",
    "pfss = cider.models.pfss.PotentialFieldSourceSurfaceModel(balanced_magnetogram, r)"
   ]
  },
  {
   "cell_type": "code",
   "execution_count": null,
   "id": "c6d417a3-2cf2-4a48-84a2-fef746a92b2d",
   "metadata": {},
   "outputs": [],
   "source": [
    "# Compute the solution\n",
    "pfss.compute()"
   ]
  },
  {
   "cell_type": "code",
   "execution_count": null,
   "id": "b0b90ba9-f7b9-4c0b-8c8e-29cbcd5faacb",
   "metadata": {},
   "outputs": [],
   "source": [
    "# Compute the magnetic field\n",
    "magnetic_field = pfss.magnetic_field()"
   ]
  },
  {
   "cell_type": "markdown",
   "id": "c1914c55-62ef-4868-89ae-6e24cfa27184",
   "metadata": {},
   "source": [
    "Output the cell-centered magnetic field components for external visualization"
   ]
  },
  {
   "cell_type": "code",
   "execution_count": null,
   "id": "dccc278c-f1e8-43b1-b1a0-50b9b88fa130",
   "metadata": {},
   "outputs": [],
   "source": [
    "import pyevtk.hl as evtk"
   ]
  },
  {
   "cell_type": "code",
   "execution_count": null,
   "id": "bf5e6e1a-17b2-4fc1-93af-9f2d95bfeec7",
   "metadata": {},
   "outputs": [],
   "source": [
    "B = magnetic_field\n",
    "\n",
    "evtk.gridToVTK(\"pfss_example\",\n",
    "               B.mesh.edges.r/RSun.si.value,\n",
    "               B.mesh.edges.clt,\n",
    "               B.mesh.edges.lon,\n",
    "               cellData={\"Br\" : 0.5*(B.data[0][1::, :, :] + B.data[0][0:-1, :, :]),\n",
    "                         \"Bt\" : 0.5*(B.data[1][:, 1::, :] + B.data[1][:, 0:-1, :]),\n",
    "                         \"Bp\" : 0.5*(B.data[2][:, :, 1::] + B.data[2][:, :, 0:-1])}\n",
    "              )"
   ]
  },
  {
   "cell_type": "markdown",
   "id": "3bf9f14f-11a5-4038-b395-78c975270670",
   "metadata": {},
   "source": [
    "***"
   ]
  }
 ],
 "metadata": {
  "kernelspec": {
   "display_name": "cider",
   "language": "python",
   "name": "python3"
  },
  "language_info": {
   "codemirror_mode": {
    "name": "ipython",
    "version": 3
   },
   "file_extension": ".py",
   "mimetype": "text/x-python",
   "name": "python",
   "nbconvert_exporter": "python",
   "pygments_lexer": "ipython3",
   "version": "3.10.17"
  }
 },
 "nbformat": 4,
 "nbformat_minor": 5
}
